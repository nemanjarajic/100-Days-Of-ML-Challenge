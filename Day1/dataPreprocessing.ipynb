{
 "cells": [
  {
   "cell_type": "markdown",
   "source": [
    "Import libraries and import dataset\n",
    "X stores Counrty, Age, and Salary\n",
    "Y stores purchased "
   ],
   "metadata": {}
  },
  {
   "cell_type": "code",
   "execution_count": 31,
   "source": [
    "import numpy as np\n",
    "import pandas as pd\n",
    "\n",
    "df = pd.read_csv('../datasets/Data.csv')\n",
    "\n",
    "X = df.iloc[ : , :-1].values\n",
    "Y = df.iloc[ : , 3].values\n"
   ],
   "outputs": [
    {
     "output_type": "stream",
     "name": "stdout",
     "text": [
      "[['France' 44.0 72000.0]\n",
      " ['Spain' 27.0 48000.0]\n",
      " ['Germany' 30.0 54000.0]\n",
      " ['Spain' 38.0 61000.0]\n",
      " ['Germany' 40.0 nan]\n",
      " ['France' 35.0 58000.0]\n",
      " ['Spain' nan 52000.0]\n",
      " ['France' 48.0 79000.0]\n",
      " ['Germany' 50.0 83000.0]\n",
      " ['France' 37.0 67000.0]]\n"
     ]
    }
   ],
   "metadata": {}
  },
  {
   "cell_type": "markdown",
   "source": [
    "Handling missing data\n",
    "\n",
    "Common practices\n",
    "    - Filling in NaN values with the average or mean\n",
    "        - Imputer: imputation transformer that completes missing values\n"
   ],
   "metadata": {}
  },
  {
   "cell_type": "code",
   "execution_count": 25,
   "source": [
    "from sklearn.impute import SimpleImputer\n",
    "imputer = SimpleImputer(missing_values = np.nan, strategy = \"mean\")\n",
    "imputer = imputer.fit(X[ : , 1:3])\n",
    "X[ : , 1:3] = imputer.transform(X[ : , 1:3])"
   ],
   "outputs": [],
   "metadata": {}
  },
  {
   "cell_type": "markdown",
   "source": [
    "Encoding categorical data\n",
    "    - Changes name of countries to integer representation"
   ],
   "metadata": {}
  },
  {
   "cell_type": "code",
   "execution_count": 26,
   "source": [
    "from sklearn.preprocessing import LabelEncoder, OneHotEncoder\n",
    "\n",
    "label_X = LabelEncoder()\n",
    "X[:,0] = label_X.fit_transform(X[:,0])\n",
    "\n",
    "print(X)"
   ],
   "outputs": [
    {
     "output_type": "stream",
     "name": "stdout",
     "text": [
      "[[0 44.0 72000.0]\n",
      " [2 27.0 48000.0]\n",
      " [1 30.0 54000.0]\n",
      " [2 38.0 61000.0]\n",
      " [1 40.0 63777.77777777778]\n",
      " [0 35.0 58000.0]\n",
      " [2 38.77777777777778 52000.0]\n",
      " [0 48.0 79000.0]\n",
      " [1 50.0 83000.0]\n",
      " [0 37.0 67000.0]]\n"
     ]
    }
   ],
   "metadata": {}
  },
  {
   "cell_type": "markdown",
   "source": [
    "Creating dummy Variable"
   ],
   "metadata": {}
  },
  {
   "cell_type": "code",
   "execution_count": 27,
   "source": [
    "hot_encoder = OneHotEncoder()\n",
    "X = hot_encoder.fit_transform(X).toarray()\n",
    "print(X)\n",
    "label_Y = LabelEncoder()\n",
    "Y = label_Y.fit_transform(Y)\n",
    "print(Y)"
   ],
   "outputs": [
    {
     "output_type": "stream",
     "name": "stdout",
     "text": [
      "[[1. 0. 0. 0. 0. 0. 0. 0. 0. 0. 1. 0. 0. 0. 0. 0. 0. 0. 0. 0. 1. 0. 0.]\n",
      " [0. 0. 1. 1. 0. 0. 0. 0. 0. 0. 0. 0. 0. 1. 0. 0. 0. 0. 0. 0. 0. 0. 0.]\n",
      " [0. 1. 0. 0. 1. 0. 0. 0. 0. 0. 0. 0. 0. 0. 0. 1. 0. 0. 0. 0. 0. 0. 0.]\n",
      " [0. 0. 1. 0. 0. 0. 0. 1. 0. 0. 0. 0. 0. 0. 0. 0. 0. 1. 0. 0. 0. 0. 0.]\n",
      " [0. 1. 0. 0. 0. 0. 0. 0. 0. 1. 0. 0. 0. 0. 0. 0. 0. 0. 1. 0. 0. 0. 0.]\n",
      " [1. 0. 0. 0. 0. 1. 0. 0. 0. 0. 0. 0. 0. 0. 0. 0. 1. 0. 0. 0. 0. 0. 0.]\n",
      " [0. 0. 1. 0. 0. 0. 0. 0. 1. 0. 0. 0. 0. 0. 1. 0. 0. 0. 0. 0. 0. 0. 0.]\n",
      " [1. 0. 0. 0. 0. 0. 0. 0. 0. 0. 0. 1. 0. 0. 0. 0. 0. 0. 0. 0. 0. 1. 0.]\n",
      " [0. 1. 0. 0. 0. 0. 0. 0. 0. 0. 0. 0. 1. 0. 0. 0. 0. 0. 0. 0. 0. 0. 1.]\n",
      " [1. 0. 0. 0. 0. 0. 1. 0. 0. 0. 0. 0. 0. 0. 0. 0. 0. 0. 0. 1. 0. 0. 0.]]\n",
      "[0 1 0 0 1 1 0 1 0 1]\n"
     ]
    }
   ],
   "metadata": {}
  },
  {
   "cell_type": "markdown",
   "source": [
    "Training Sets and Test Sets"
   ],
   "metadata": {}
  },
  {
   "cell_type": "code",
   "execution_count": 28,
   "source": [
    "from sklearn.model_selection import train_test_split\n",
    "\n",
    "X_train, X_test, Y_train, Y_test = train_test_split(X,Y, test_size = .2, random_state = 0)\n",
    "print(X_train, X_test)"
   ],
   "outputs": [
    {
     "output_type": "stream",
     "name": "stdout",
     "text": [
      "[[0. 1. 0. 0. 0. 0. 0. 0. 0. 1. 0. 0. 0. 0. 0. 0. 0. 0. 1. 0. 0. 0. 0.]\n",
      " [1. 0. 0. 0. 0. 0. 1. 0. 0. 0. 0. 0. 0. 0. 0. 0. 0. 0. 0. 1. 0. 0. 0.]\n",
      " [0. 0. 1. 1. 0. 0. 0. 0. 0. 0. 0. 0. 0. 1. 0. 0. 0. 0. 0. 0. 0. 0. 0.]\n",
      " [0. 0. 1. 0. 0. 0. 0. 0. 1. 0. 0. 0. 0. 0. 1. 0. 0. 0. 0. 0. 0. 0. 0.]\n",
      " [1. 0. 0. 0. 0. 0. 0. 0. 0. 0. 0. 1. 0. 0. 0. 0. 0. 0. 0. 0. 0. 1. 0.]\n",
      " [0. 0. 1. 0. 0. 0. 0. 1. 0. 0. 0. 0. 0. 0. 0. 0. 0. 1. 0. 0. 0. 0. 0.]\n",
      " [1. 0. 0. 0. 0. 0. 0. 0. 0. 0. 1. 0. 0. 0. 0. 0. 0. 0. 0. 0. 1. 0. 0.]\n",
      " [1. 0. 0. 0. 0. 1. 0. 0. 0. 0. 0. 0. 0. 0. 0. 0. 1. 0. 0. 0. 0. 0. 0.]] [[0. 1. 0. 0. 1. 0. 0. 0. 0. 0. 0. 0. 0. 0. 0. 1. 0. 0. 0. 0. 0. 0. 0.]\n",
      " [0. 1. 0. 0. 0. 0. 0. 0. 0. 0. 0. 0. 1. 0. 0. 0. 0. 0. 0. 0. 0. 0. 1.]]\n"
     ]
    }
   ],
   "metadata": {}
  },
  {
   "cell_type": "markdown",
   "source": [
    "Feature Scaling"
   ],
   "metadata": {}
  },
  {
   "cell_type": "code",
   "execution_count": 29,
   "source": [
    "from sklearn.preprocessing import StandardScaler\n",
    "\n",
    "sc_X = StandardScaler()\n",
    "X_train = sc_X.fit_transform(X_train)\n",
    "X_test = sc_X.fit_transform(X_test)\n",
    "\n",
    "print(X_train)"
   ],
   "outputs": [
    {
     "output_type": "stream",
     "name": "stdout",
     "text": [
      "[[-1.          2.64575131 -0.77459667 -0.37796447  0.         -0.37796447\n",
      "  -0.37796447 -0.37796447 -0.37796447  2.64575131 -0.37796447 -0.37796447\n",
      "   0.         -0.37796447 -0.37796447  0.         -0.37796447 -0.37796447\n",
      "   2.64575131 -0.37796447 -0.37796447 -0.37796447  0.        ]\n",
      " [ 1.         -0.37796447 -0.77459667 -0.37796447  0.         -0.37796447\n",
      "   2.64575131 -0.37796447 -0.37796447 -0.37796447 -0.37796447 -0.37796447\n",
      "   0.         -0.37796447 -0.37796447  0.         -0.37796447 -0.37796447\n",
      "  -0.37796447  2.64575131 -0.37796447 -0.37796447  0.        ]\n",
      " [-1.         -0.37796447  1.29099445  2.64575131  0.         -0.37796447\n",
      "  -0.37796447 -0.37796447 -0.37796447 -0.37796447 -0.37796447 -0.37796447\n",
      "   0.          2.64575131 -0.37796447  0.         -0.37796447 -0.37796447\n",
      "  -0.37796447 -0.37796447 -0.37796447 -0.37796447  0.        ]\n",
      " [-1.         -0.37796447  1.29099445 -0.37796447  0.         -0.37796447\n",
      "  -0.37796447 -0.37796447  2.64575131 -0.37796447 -0.37796447 -0.37796447\n",
      "   0.         -0.37796447  2.64575131  0.         -0.37796447 -0.37796447\n",
      "  -0.37796447 -0.37796447 -0.37796447 -0.37796447  0.        ]\n",
      " [ 1.         -0.37796447 -0.77459667 -0.37796447  0.         -0.37796447\n",
      "  -0.37796447 -0.37796447 -0.37796447 -0.37796447 -0.37796447  2.64575131\n",
      "   0.         -0.37796447 -0.37796447  0.         -0.37796447 -0.37796447\n",
      "  -0.37796447 -0.37796447 -0.37796447  2.64575131  0.        ]\n",
      " [-1.         -0.37796447  1.29099445 -0.37796447  0.         -0.37796447\n",
      "  -0.37796447  2.64575131 -0.37796447 -0.37796447 -0.37796447 -0.37796447\n",
      "   0.         -0.37796447 -0.37796447  0.         -0.37796447  2.64575131\n",
      "  -0.37796447 -0.37796447 -0.37796447 -0.37796447  0.        ]\n",
      " [ 1.         -0.37796447 -0.77459667 -0.37796447  0.         -0.37796447\n",
      "  -0.37796447 -0.37796447 -0.37796447 -0.37796447  2.64575131 -0.37796447\n",
      "   0.         -0.37796447 -0.37796447  0.         -0.37796447 -0.37796447\n",
      "  -0.37796447 -0.37796447  2.64575131 -0.37796447  0.        ]\n",
      " [ 1.         -0.37796447 -0.77459667 -0.37796447  0.          2.64575131\n",
      "  -0.37796447 -0.37796447 -0.37796447 -0.37796447 -0.37796447 -0.37796447\n",
      "   0.         -0.37796447 -0.37796447  0.          2.64575131 -0.37796447\n",
      "  -0.37796447 -0.37796447 -0.37796447 -0.37796447  0.        ]]\n"
     ]
    }
   ],
   "metadata": {}
  }
 ],
 "metadata": {
  "orig_nbformat": 4,
  "language_info": {
   "name": "python",
   "version": "3.9.7",
   "mimetype": "text/x-python",
   "codemirror_mode": {
    "name": "ipython",
    "version": 3
   },
   "pygments_lexer": "ipython3",
   "nbconvert_exporter": "python",
   "file_extension": ".py"
  },
  "kernelspec": {
   "name": "python3",
   "display_name": "Python 3.9.7 64-bit ('base': conda)"
  },
  "interpreter": {
   "hash": "95ec9ec1504d83f612128e0fb229072f90bbb4cb09d9d5d93b5dd26e0ca2cfd1"
  }
 },
 "nbformat": 4,
 "nbformat_minor": 2
}